{
 "cells": [
  {
   "cell_type": "code",
   "execution_count": 2,
   "id": "86a48e51",
   "metadata": {},
   "outputs": [],
   "source": [
    "#Understanding print()\n",
    "#THIS SECTION IS ALL ABOUT PRINTING\n"
   ]
  },
  {
   "cell_type": "code",
   "execution_count": 43,
   "id": "ff2ba4f2",
   "metadata": {},
   "outputs": [
    {
     "name": "stdout",
     "output_type": "stream",
     "text": [
      "hello world\n",
      "hello world\n"
     ]
    }
   ],
   "source": [
    "print(\"hello world\")\n",
    "print('hello world')"
   ]
  },
  {
   "cell_type": "code",
   "execution_count": 44,
   "id": "73382869",
   "metadata": {},
   "outputs": [
    {
     "name": "stdout",
     "output_type": "stream",
     "text": [
      "she said, \"hello world\"\n"
     ]
    }
   ],
   "source": [
    "#print('she said, \"hello world\"', end= '')\n",
    "#print('she said, \"hello world\"')\n",
    "print(\"she said, \\\"hello world\\\"\")"
   ]
  },
  {
   "cell_type": "code",
   "execution_count": 45,
   "id": "a2d9ea61",
   "metadata": {},
   "outputs": [
    {
     "name": "stdout",
     "output_type": "stream",
     "text": [
      "Sahar\n",
      "Rezaei\n",
      "SaharRezaei\n",
      "SaharRezaei first\n",
      "SaharRezaei is really old\n",
      "Sahar Rezaei  is really old\n"
     ]
    }
   ],
   "source": [
    "#Store and print a variable\n",
    "# define strings\n",
    "\n",
    "first=  \"Sahar\"\n",
    "last= \"Rezaei\"\n",
    "\n",
    "x= 10\n",
    "y= 15\n",
    "\n",
    "# concate those strings\n",
    "full = first + last\n",
    "z= x + y\n",
    " # print the strings\n",
    "\n",
    "print(first)\n",
    "print(last)\n",
    "print(full)\n",
    "print(first + last + \" first\")\n",
    "print(first + \"\" + last + \" is really old\")\n",
    "print(first, last, \" is really old\")"
   ]
  },
  {
   "cell_type": "code",
   "execution_count": 46,
   "id": "6b021a15",
   "metadata": {},
   "outputs": [
    {
     "name": "stdout",
     "output_type": "stream",
     "text": [
      "11\n",
      "11\n"
     ]
    }
   ],
   "source": [
    "#Get the length of a string\n",
    "print(len(full))\n",
    "name_length = len(full)\n",
    "print(name_length)\n"
   ]
  },
  {
   "cell_type": "code",
   "execution_count": 47,
   "id": "ed2b5684",
   "metadata": {},
   "outputs": [
    {
     "name": "stdout",
     "output_type": "stream",
     "text": [
      "There are 11 characters in Sahar Rezaei name\n",
      "There are 11 characters in Sahar Rezaei name\n"
     ]
    }
   ],
   "source": [
    "# Print strings and numbers (by using \",\" and \"+\")\n",
    "\n",
    "print (\"There are\", len(first + last), \"characters in Sahar Rezaei name\")\n",
    "print(\"There are \" + str (len(full)) + \" characters in Sahar Rezaei name\")"
   ]
  },
  {
   "cell_type": "code",
   "execution_count": 48,
   "id": "feb29fac",
   "metadata": {},
   "outputs": [
    {
     "name": "stdout",
     "output_type": "stream",
     "text": [
      "14\n",
      "77\n"
     ]
    }
   ],
   "source": [
    "# If x = 7 and y = \"7\", write two print statements to print \"77\" and \"14\" as the output\n",
    "x = 7\n",
    "y = \"7\"\n",
    "print(x + int(y))\n",
    "print(str(x) + y)"
   ]
  },
  {
   "cell_type": "code",
   "execution_count": 53,
   "id": "f5b60d8a",
   "metadata": {},
   "outputs": [
    {
     "name": "stdout",
     "output_type": "stream",
     "text": [
      "Sahar\n",
      "sahar\n",
      "Sahar\n"
     ]
    }
   ],
   "source": [
    "# Some operations on strings\n",
    "print(first)\n",
    "print(first.lower())\n",
    "print(first.capitalize())"
   ]
  },
  {
   "cell_type": "code",
   "execution_count": 55,
   "id": "7e2a8954",
   "metadata": {},
   "outputs": [
    {
     "name": "stdout",
     "output_type": "stream",
     "text": [
      "ACGTTAC\n",
      "Beyonce\n"
     ]
    }
   ],
   "source": [
    "#make some replacements\n",
    "dna= 'ACGTTAC'\n",
    "print(dna)\n",
    "\n",
    "print(dna.replace('ACGTTAC', 'Beyonce'))"
   ]
  },
  {
   "cell_type": "code",
   "execution_count": null,
   "id": "d7f52d42",
   "metadata": {},
   "outputs": [],
   "source": [
    "\n",
    "print('I love {} and \"{}.\"'.format('tacos', 'geeks'))\n",
    "\n",
    "# using format() method and referring a position of the object\n",
    "print('{1} and {1}'.format('Freaks', 'Geeks'))\n",
    "\n",
    "# combining positional and keyword arguments\n",
    "print('{other} is {1} than {0}.'\n",
    "    .format('Alicia Keys', 'better', other ='Beyonce'))\n",
    "\n",
    "# use f\n",
    "print(f\"I love {'Freaks'} and \\\"{'Geeks'}!\\\"\")"
   ]
  },
  {
   "cell_type": "code",
   "execution_count": 69,
   "id": "4086ac27",
   "metadata": {},
   "outputs": [
    {
     "name": "stdout",
     "output_type": "stream",
     "text": [
      "I love tacos and \"greeks\".\n",
      "Geeks and Geeks\n",
      "Beyonce is better then Alicia Keys.\n",
      " I love Freaks and Greeks\n",
      "I love comedy movie and \"romantic movei!\"\n",
      "I love Freaks and \"Geeks!\"\n"
     ]
    }
   ],
   "source": [
    "# Formatted printing of strings\n",
    "\n",
    "print('I love {} and \"{}\".'.format('tacos', 'greeks'))\n",
    "\n",
    "# using format() method and referring a position of the object\n",
    "print('{1} and {1}'.format(\"Freaks\", \"Geeks\"))\n",
    "\n",
    "# combining positional and keyword arguments\n",
    "print('{other} is {1} then {0}.'\n",
    "     .format('Alicia Keys', 'better', other ='Beyonce'))\n",
    "\n",
    "# use f\n",
    "print(f\" I love {'Freaks'} and {'Greeks'}\")\n",
    "print(f\"I love {'comedy movie'} and \\\"{'romantic movei'}!\\\"\")\n",
    "print(f\"I love {'Freaks'} and \\\"{'Geeks'}!\\\"\")"
   ]
  },
  {
   "cell_type": "code",
   "execution_count": null,
   "id": "6806f5de",
   "metadata": {},
   "outputs": [],
   "source": []
  },
  {
   "cell_type": "code",
   "execution_count": null,
   "id": "0aeb67f9",
   "metadata": {},
   "outputs": [],
   "source": []
  }
 ],
 "metadata": {
  "kernelspec": {
   "display_name": "Python 3 (ipykernel)",
   "language": "python",
   "name": "python3"
  },
  "language_info": {
   "codemirror_mode": {
    "name": "ipython",
    "version": 3
   },
   "file_extension": ".py",
   "mimetype": "text/x-python",
   "name": "python",
   "nbconvert_exporter": "python",
   "pygments_lexer": "ipython3",
   "version": "3.10.13"
  }
 },
 "nbformat": 4,
 "nbformat_minor": 5
}
