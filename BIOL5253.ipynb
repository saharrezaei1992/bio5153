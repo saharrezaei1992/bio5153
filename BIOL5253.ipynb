{
 "cells": [
  {
   "cell_type": "code",
   "execution_count": null,
   "id": "834174da",
   "metadata": {},
   "outputs": [],
   "source": [
    "#SAHAR REZAEI\n",
    "#BIOL 5153\n"
   ]
  },
  {
   "cell_type": "code",
   "execution_count": 3,
   "id": "e705a445",
   "metadata": {},
   "outputs": [
    {
     "name": "stdout",
     "output_type": "stream",
     "text": [
      "Python 3.10.13\n"
     ]
    }
   ],
   "source": [
    "! python --version"
   ]
  },
  {
   "cell_type": "code",
   "execution_count": 5,
   "id": "e5a0231c",
   "metadata": {},
   "outputs": [
    {
     "name": "stdout",
     "output_type": "stream",
     "text": [
      "hello words\n"
     ]
    }
   ],
   "source": [
    "print(\"hello words\")"
   ]
  },
  {
   "cell_type": "code",
   "execution_count": 3,
   "id": "507d05a8",
   "metadata": {},
   "outputs": [
    {
     "name": "stdout",
     "output_type": "stream",
     "text": [
      "['123']\n",
      "6\n"
     ]
    }
   ],
   "source": [
    "list = [\"123\"]\n",
    "print(list)\n",
    "\n",
    "sum = (1 + 2 + 3)\n",
    "print(sum)"
   ]
  },
  {
   "cell_type": "code",
   "execution_count": null,
   "id": "61e848c1",
   "metadata": {},
   "outputs": [],
   "source": []
  }
 ],
 "metadata": {
  "kernelspec": {
   "display_name": "Python 3 (ipykernel)",
   "language": "python",
   "name": "python3"
  },
  "language_info": {
   "codemirror_mode": {
    "name": "ipython",
    "version": 3
   },
   "file_extension": ".py",
   "mimetype": "text/x-python",
   "name": "python",
   "nbconvert_exporter": "python",
   "pygments_lexer": "ipython3",
   "version": "3.10.13"
  }
 },
 "nbformat": 4,
 "nbformat_minor": 5
}
