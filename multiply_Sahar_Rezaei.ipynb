{
 "cells": [
  {
   "cell_type": "code",
   "execution_count": 3,
   "id": "48946a4a",
   "metadata": {},
   "outputs": [
    {
     "name": "stdout",
     "output_type": "stream",
     "text": [
      "10\n",
      "1\t2\t3\t4\t5\t6\t7\t8\t9\t10\t\n",
      "2\t4\t6\t8\t10\t12\t14\t16\t18\t20\t\n",
      "3\t6\t9\t12\t15\t18\t21\t24\t27\t30\t\n",
      "4\t8\t12\t16\t20\t24\t28\t32\t36\t40\t\n",
      "5\t10\t15\t20\t25\t30\t35\t40\t45\t50\t\n",
      "6\t12\t18\t24\t30\t36\t42\t48\t54\t60\t\n",
      "7\t14\t21\t28\t35\t42\t49\t56\t63\t70\t\n",
      "8\t16\t24\t32\t40\t48\t56\t64\t72\t80\t\n",
      "9\t18\t27\t36\t45\t54\t63\t72\t81\t90\t\n",
      "10\t20\t30\t40\t50\t60\t70\t80\t90\t100\t\n"
     ]
    }
   ],
   "source": [
    "# hw\n",
    "x=int(input())\n",
    "for row in range(1,x+1):\n",
    "    for col in range(1,x+1):\n",
    "        print(row*col, end=\"\\t\")\n",
    "    print()\n",
    "# how to justify\n",
    "# format\n",
    "\n"
   ]
  },
  {
   "cell_type": "code",
   "execution_count": 5,
   "id": "55d7680e",
   "metadata": {},
   "outputs": [
    {
     "name": "stdout",
     "output_type": "stream",
     "text": [
      "10\n",
      "  1\t  2\t  3\t  4\t  5\t  6\t  7\t  8\t  9\t 10\t\n",
      "  2\t  4\t  6\t  8\t 10\t 12\t 14\t 16\t 18\t 20\t\n",
      "  3\t  6\t  9\t 12\t 15\t 18\t 21\t 24\t 27\t 30\t\n",
      "  4\t  8\t 12\t 16\t 20\t 24\t 28\t 32\t 36\t 40\t\n",
      "  5\t 10\t 15\t 20\t 25\t 30\t 35\t 40\t 45\t 50\t\n",
      "  6\t 12\t 18\t 24\t 30\t 36\t 42\t 48\t 54\t 60\t\n",
      "  7\t 14\t 21\t 28\t 35\t 42\t 49\t 56\t 63\t 70\t\n",
      "  8\t 16\t 24\t 32\t 40\t 48\t 56\t 64\t 72\t 80\t\n",
      "  9\t 18\t 27\t 36\t 45\t 54\t 63\t 72\t 81\t 90\t\n",
      " 10\t 20\t 30\t 40\t 50\t 60\t 70\t 80\t 90\t100\t\n"
     ]
    }
   ],
   "source": [
    "x = int(input(\"\"))\n",
    "\n",
    "# Maximum value to determine the width for right alignment\n",
    "max_value = x*x\n",
    "\n",
    "for row in range(1, x+1):\n",
    "    for col in range(1, x+1):\n",
    "        # Right-align each element within the width of the largest number\n",
    "        print(str(row*col).rjust(len(str(max_value))), end=\"\\t\")\n",
    "    print()\n"
   ]
  },
  {
   "cell_type": "code",
   "execution_count": null,
   "id": "87a537ca",
   "metadata": {},
   "outputs": [],
   "source": []
  }
 ],
 "metadata": {
  "kernelspec": {
   "display_name": "Python 3 (ipykernel)",
   "language": "python",
   "name": "python3"
  },
  "language_info": {
   "codemirror_mode": {
    "name": "ipython",
    "version": 3
   },
   "file_extension": ".py",
   "mimetype": "text/x-python",
   "name": "python",
   "nbconvert_exporter": "python",
   "pygments_lexer": "ipython3",
   "version": "3.10.13"
  }
 },
 "nbformat": 4,
 "nbformat_minor": 5
}
